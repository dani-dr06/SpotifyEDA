{
 "cells": [
  {
   "cell_type": "markdown",
   "id": "0173698a",
   "metadata": {},
   "source": [
    "# Spotify EDA"
   ]
  },
  {
   "cell_type": "markdown",
   "id": "094e7f85",
   "metadata": {},
   "source": [
    "As a guitar player and an avid music fan, I thought it would be interesting to explore what the components of top hit songs are. The purpose of this project is to perform exploratory data analysis on Spotify music data, and later try to predict popularity based on specific attributes."
   ]
  },
  {
   "cell_type": "markdown",
   "id": "28e0cfd0",
   "metadata": {},
   "source": [
    "## The Dataset"
   ]
  },
  {
   "cell_type": "markdown",
   "id": "26540ed3",
   "metadata": {},
   "source": [
    "The dataset comes from Kaggle user Mark Koverha and can be found [here](https://www.kaggle.com/datasets/paradisejoy/top-hits-spotify-from-20002019), and, in the words of the author, it consists of the following columns:\n",
    "\n",
    "**1. Artist:** Name of the Artist.\n",
    "\n",
    "**2. Song:** Name of the Track.\n",
    "\n",
    "**3. Duration_ms:** Duration of the track in milliseconds.\n",
    "\n",
    "**4. Explicit:** The lyrics or content of a song or a music video contain one or more of the criteria which could be considered offensive or unsuitable for children.\n",
    "\n",
    "**5. Year:** Release Year of the track.\n",
    "\n",
    "**6. Popularity:** The higher the value the more popular the song is.\n",
    "\n",
    "**7. Danceability:** Danceability describes how suitable a track is for dancing based on a combination of musical elements including tempo, rhythm stability, beat strength, and overall regularity. A value of 0.0 is least danceable and 1.0 is most danceable.\n",
    "\n",
    "**8. Energy:** Energy is a measure from 0.0 to 1.0 and represents a perceptual measure of intensity and activity.\n",
    "\n",
    "**9. Key:** The key the track is in. Integers map to pitches using standard Pitch Class notation. E.g. 0 = C, 1 = C♯/D♭, 2 = D, and so on. If no key was detected, the value is -1.\n",
    "\n",
    "**10. Loudness:** The overall loudness of a track in decibels (dB). Loudness values are averaged across the entire track and are useful for comparing relative loudness of tracks. Loudness is the quality of a sound that is the primary psychological correlate of physical strength (amplitude). Values typically range between -60 and 0 db.\n",
    "\n",
    "**11. Mode:** Mode indicates the modality (major or minor) of a track, the type of scale from which its melodic content is derived. Major is represented by 1 and minor is 0.\n",
    "\n",
    "**12. Speechiness:** Speechiness detects the presence of spoken words in a track. The more exclusively speech-like the recording (e.g. talk show, audio book, poetry), the closer to 1.0 the attribute value. Values above 0.66 describe tracks that are probably made entirely of spoken words. Values between 0.33 and 0.66 describe tracks that may contain both music and speech, either in sections or layered, including such cases as rap music. Values below 0.33 most likely represent music and other non-speech-like tracks.\n",
    "\n",
    "**13. Acousticness:** A confidence measure from 0.0 to 1.0 of whether the track is acoustic. 1.0 represents high confidence the track is acoustic.\n",
    "\n",
    "**14. Instrumentalness:** Predicts whether a track contains no vocals. \"Ooh\" and \"aah\" sounds are treated as instrumental in this context. Rap or spoken word tracks are clearly \"vocal\". The closer the instrumentalness value is to 1.0, the greater likelihood the track contains no vocal content. Values above 0.5 are intended to represent instrumental tracks, but confidence is higher as the value approaches 1.0.\n",
    "\n",
    "**15. Liveness:** Detects the presence of an audience in the recording. Higher liveness values represent an increased probability that the track was performed live. A value above 0.8 provides strong likelihood that the track is live.\n",
    "\n",
    "**16. Valence:** A measure from 0.0 to 1.0 describing the musical positiveness conveyed by a track. Tracks with high valence sound more positive (e.g. happy, cheerful, euphoric), while tracks with low valence sound more negative (e.g. sad, depressed, angry).\n",
    "\n",
    "**17. Tempo:** The overall estimated tempo of a track in beats per minute (BPM). In musical terminology, tempo is the speed or pace of a given piece and derives directly from the average beat duration.\n",
    "\n",
    "**18. Genre:** Genre of the track."
   ]
  },
  {
   "cell_type": "markdown",
   "id": "b5c9cac0",
   "metadata": {},
   "source": [
    "## Getting data into a dataframe, understanding how it looks like, and cleaning the data"
   ]
  },
  {
   "cell_type": "code",
   "execution_count": 1,
   "id": "9ca55c8b",
   "metadata": {},
   "outputs": [],
   "source": [
    "#import libraries\n",
    "import pandas as pd\n",
    "import numpy as np\n",
    "import matplotlib.pyplot as plt\n",
    "import seaborn as sns"
   ]
  },
  {
   "cell_type": "code",
   "execution_count": 2,
   "id": "05b64acb",
   "metadata": {},
   "outputs": [
    {
     "data": {
      "text/html": [
       "<div>\n",
       "<style scoped>\n",
       "    .dataframe tbody tr th:only-of-type {\n",
       "        vertical-align: middle;\n",
       "    }\n",
       "\n",
       "    .dataframe tbody tr th {\n",
       "        vertical-align: top;\n",
       "    }\n",
       "\n",
       "    .dataframe thead th {\n",
       "        text-align: right;\n",
       "    }\n",
       "</style>\n",
       "<table border=\"1\" class=\"dataframe\">\n",
       "  <thead>\n",
       "    <tr style=\"text-align: right;\">\n",
       "      <th></th>\n",
       "      <th>artist</th>\n",
       "      <th>song</th>\n",
       "      <th>duration_ms</th>\n",
       "      <th>explicit</th>\n",
       "      <th>year</th>\n",
       "      <th>popularity</th>\n",
       "      <th>danceability</th>\n",
       "      <th>energy</th>\n",
       "      <th>key</th>\n",
       "      <th>loudness</th>\n",
       "      <th>mode</th>\n",
       "      <th>speechiness</th>\n",
       "      <th>acousticness</th>\n",
       "      <th>instrumentalness</th>\n",
       "      <th>liveness</th>\n",
       "      <th>valence</th>\n",
       "      <th>tempo</th>\n",
       "      <th>genre</th>\n",
       "    </tr>\n",
       "  </thead>\n",
       "  <tbody>\n",
       "    <tr>\n",
       "      <th>0</th>\n",
       "      <td>Britney Spears</td>\n",
       "      <td>Oops!...I Did It Again</td>\n",
       "      <td>211160</td>\n",
       "      <td>False</td>\n",
       "      <td>2000</td>\n",
       "      <td>77</td>\n",
       "      <td>0.751</td>\n",
       "      <td>0.834</td>\n",
       "      <td>1</td>\n",
       "      <td>-5.444</td>\n",
       "      <td>0</td>\n",
       "      <td>0.0437</td>\n",
       "      <td>0.3000</td>\n",
       "      <td>0.000018</td>\n",
       "      <td>0.3550</td>\n",
       "      <td>0.894</td>\n",
       "      <td>95.053</td>\n",
       "      <td>pop</td>\n",
       "    </tr>\n",
       "    <tr>\n",
       "      <th>1</th>\n",
       "      <td>blink-182</td>\n",
       "      <td>All The Small Things</td>\n",
       "      <td>167066</td>\n",
       "      <td>False</td>\n",
       "      <td>1999</td>\n",
       "      <td>79</td>\n",
       "      <td>0.434</td>\n",
       "      <td>0.897</td>\n",
       "      <td>0</td>\n",
       "      <td>-4.918</td>\n",
       "      <td>1</td>\n",
       "      <td>0.0488</td>\n",
       "      <td>0.0103</td>\n",
       "      <td>0.000000</td>\n",
       "      <td>0.6120</td>\n",
       "      <td>0.684</td>\n",
       "      <td>148.726</td>\n",
       "      <td>rock, pop</td>\n",
       "    </tr>\n",
       "    <tr>\n",
       "      <th>2</th>\n",
       "      <td>Faith Hill</td>\n",
       "      <td>Breathe</td>\n",
       "      <td>250546</td>\n",
       "      <td>False</td>\n",
       "      <td>1999</td>\n",
       "      <td>66</td>\n",
       "      <td>0.529</td>\n",
       "      <td>0.496</td>\n",
       "      <td>7</td>\n",
       "      <td>-9.007</td>\n",
       "      <td>1</td>\n",
       "      <td>0.0290</td>\n",
       "      <td>0.1730</td>\n",
       "      <td>0.000000</td>\n",
       "      <td>0.2510</td>\n",
       "      <td>0.278</td>\n",
       "      <td>136.859</td>\n",
       "      <td>pop, country</td>\n",
       "    </tr>\n",
       "    <tr>\n",
       "      <th>3</th>\n",
       "      <td>Bon Jovi</td>\n",
       "      <td>It's My Life</td>\n",
       "      <td>224493</td>\n",
       "      <td>False</td>\n",
       "      <td>2000</td>\n",
       "      <td>78</td>\n",
       "      <td>0.551</td>\n",
       "      <td>0.913</td>\n",
       "      <td>0</td>\n",
       "      <td>-4.063</td>\n",
       "      <td>0</td>\n",
       "      <td>0.0466</td>\n",
       "      <td>0.0263</td>\n",
       "      <td>0.000013</td>\n",
       "      <td>0.3470</td>\n",
       "      <td>0.544</td>\n",
       "      <td>119.992</td>\n",
       "      <td>rock, metal</td>\n",
       "    </tr>\n",
       "    <tr>\n",
       "      <th>4</th>\n",
       "      <td>*NSYNC</td>\n",
       "      <td>Bye Bye Bye</td>\n",
       "      <td>200560</td>\n",
       "      <td>False</td>\n",
       "      <td>2000</td>\n",
       "      <td>65</td>\n",
       "      <td>0.614</td>\n",
       "      <td>0.928</td>\n",
       "      <td>8</td>\n",
       "      <td>-4.806</td>\n",
       "      <td>0</td>\n",
       "      <td>0.0516</td>\n",
       "      <td>0.0408</td>\n",
       "      <td>0.001040</td>\n",
       "      <td>0.0845</td>\n",
       "      <td>0.879</td>\n",
       "      <td>172.656</td>\n",
       "      <td>pop</td>\n",
       "    </tr>\n",
       "  </tbody>\n",
       "</table>\n",
       "</div>"
      ],
      "text/plain": [
       "           artist                    song  duration_ms  explicit  year  \\\n",
       "0  Britney Spears  Oops!...I Did It Again       211160     False  2000   \n",
       "1       blink-182    All The Small Things       167066     False  1999   \n",
       "2      Faith Hill                 Breathe       250546     False  1999   \n",
       "3        Bon Jovi            It's My Life       224493     False  2000   \n",
       "4          *NSYNC             Bye Bye Bye       200560     False  2000   \n",
       "\n",
       "   popularity  danceability  energy  key  loudness  mode  speechiness  \\\n",
       "0          77         0.751   0.834    1    -5.444     0       0.0437   \n",
       "1          79         0.434   0.897    0    -4.918     1       0.0488   \n",
       "2          66         0.529   0.496    7    -9.007     1       0.0290   \n",
       "3          78         0.551   0.913    0    -4.063     0       0.0466   \n",
       "4          65         0.614   0.928    8    -4.806     0       0.0516   \n",
       "\n",
       "   acousticness  instrumentalness  liveness  valence    tempo         genre  \n",
       "0        0.3000          0.000018    0.3550    0.894   95.053           pop  \n",
       "1        0.0103          0.000000    0.6120    0.684  148.726     rock, pop  \n",
       "2        0.1730          0.000000    0.2510    0.278  136.859  pop, country  \n",
       "3        0.0263          0.000013    0.3470    0.544  119.992   rock, metal  \n",
       "4        0.0408          0.001040    0.0845    0.879  172.656           pop  "
      ]
     },
     "execution_count": 2,
     "metadata": {},
     "output_type": "execute_result"
    }
   ],
   "source": [
    "#load data into a dataframe\n",
    "df = pd.read_csv('songs_normalize.csv')\n",
    "df.head()"
   ]
  },
  {
   "cell_type": "markdown",
   "id": "c5e408c8",
   "metadata": {},
   "source": [
    "Check for missing values"
   ]
  },
  {
   "cell_type": "code",
   "execution_count": 3,
   "id": "0332a7ee",
   "metadata": {
    "scrolled": true
   },
   "outputs": [
    {
     "data": {
      "text/plain": [
       "artist              0\n",
       "song                0\n",
       "duration_ms         0\n",
       "explicit            0\n",
       "year                0\n",
       "popularity          0\n",
       "danceability        0\n",
       "energy              0\n",
       "key                 0\n",
       "loudness            0\n",
       "mode                0\n",
       "speechiness         0\n",
       "acousticness        0\n",
       "instrumentalness    0\n",
       "liveness            0\n",
       "valence             0\n",
       "tempo               0\n",
       "genre               0\n",
       "dtype: int64"
      ]
     },
     "execution_count": 3,
     "metadata": {},
     "output_type": "execute_result"
    }
   ],
   "source": [
    "df.isnull().sum()"
   ]
  },
  {
   "cell_type": "markdown",
   "id": "649b35fd",
   "metadata": {},
   "source": [
    "Remove any duplicate data"
   ]
  },
  {
   "cell_type": "code",
   "execution_count": 4,
   "id": "5b1f80eb",
   "metadata": {},
   "outputs": [],
   "source": [
    "df.drop_duplicates(inplace=True)"
   ]
  },
  {
   "cell_type": "markdown",
   "id": "80355251",
   "metadata": {},
   "source": [
    "Identify the years included in the dataset"
   ]
  },
  {
   "cell_type": "code",
   "execution_count": 5,
   "id": "6e7b2377",
   "metadata": {
    "scrolled": false
   },
   "outputs": [
    {
     "data": {
      "text/plain": [
       "array([2000, 1999, 2001, 2011, 2002, 2016, 1998, 2018, 2004, 2010, 2015,\n",
       "       2006, 2008, 2019, 2003, 2013, 2005, 2012, 2020, 2007, 2009, 2017,\n",
       "       2014])"
      ]
     },
     "execution_count": 5,
     "metadata": {},
     "output_type": "execute_result"
    }
   ],
   "source": [
    "df.year.unique()"
   ]
  },
  {
   "cell_type": "markdown",
   "id": "73a068dd",
   "metadata": {},
   "source": [
    "Since the dataset is supposed to only include data from 2000-2019, it might be a good idea to drop the values outside of that range."
   ]
  },
  {
   "cell_type": "code",
   "execution_count": 6,
   "id": "8209688a",
   "metadata": {},
   "outputs": [],
   "source": [
    "df = df[(df.year>=2000) & (df.year<=2019)] #drop 1998,1999,and 2020"
   ]
  },
  {
   "cell_type": "markdown",
   "id": "ddd60060",
   "metadata": {},
   "source": [
    "Let us see if it worked:"
   ]
  },
  {
   "cell_type": "code",
   "execution_count": 7,
   "id": "aacff858",
   "metadata": {},
   "outputs": [
    {
     "data": {
      "text/plain": [
       "array([2000, 2001, 2011, 2002, 2016, 2018, 2004, 2010, 2015, 2006, 2008,\n",
       "       2019, 2003, 2013, 2005, 2012, 2007, 2009, 2017, 2014])"
      ]
     },
     "execution_count": 7,
     "metadata": {},
     "output_type": "execute_result"
    }
   ],
   "source": [
    "df.year.unique()"
   ]
  },
  {
   "cell_type": "markdown",
   "id": "b0c13c81",
   "metadata": {},
   "source": [
    "Next, we learn about how much data we have and obtain some summary statistics"
   ]
  },
  {
   "cell_type": "code",
   "execution_count": 8,
   "id": "c3708755",
   "metadata": {},
   "outputs": [
    {
     "data": {
      "text/plain": [
       "(1899, 18)"
      ]
     },
     "execution_count": 8,
     "metadata": {},
     "output_type": "execute_result"
    }
   ],
   "source": [
    "df.shape\n",
    "#(rows, columns)"
   ]
  },
  {
   "cell_type": "code",
   "execution_count": 9,
   "id": "259b9fe0",
   "metadata": {
    "scrolled": true
   },
   "outputs": [
    {
     "data": {
      "text/html": [
       "<div>\n",
       "<style scoped>\n",
       "    .dataframe tbody tr th:only-of-type {\n",
       "        vertical-align: middle;\n",
       "    }\n",
       "\n",
       "    .dataframe tbody tr th {\n",
       "        vertical-align: top;\n",
       "    }\n",
       "\n",
       "    .dataframe thead th {\n",
       "        text-align: right;\n",
       "    }\n",
       "</style>\n",
       "<table border=\"1\" class=\"dataframe\">\n",
       "  <thead>\n",
       "    <tr style=\"text-align: right;\">\n",
       "      <th></th>\n",
       "      <th>duration_ms</th>\n",
       "      <th>year</th>\n",
       "      <th>popularity</th>\n",
       "      <th>danceability</th>\n",
       "      <th>energy</th>\n",
       "      <th>key</th>\n",
       "      <th>loudness</th>\n",
       "      <th>mode</th>\n",
       "      <th>speechiness</th>\n",
       "      <th>acousticness</th>\n",
       "      <th>instrumentalness</th>\n",
       "      <th>liveness</th>\n",
       "      <th>valence</th>\n",
       "      <th>tempo</th>\n",
       "    </tr>\n",
       "  </thead>\n",
       "  <tbody>\n",
       "    <tr>\n",
       "      <th>count</th>\n",
       "      <td>1899.000000</td>\n",
       "      <td>1899.000000</td>\n",
       "      <td>1899.000000</td>\n",
       "      <td>1899.000000</td>\n",
       "      <td>1899.000000</td>\n",
       "      <td>1899.000000</td>\n",
       "      <td>1899.000000</td>\n",
       "      <td>1899.000000</td>\n",
       "      <td>1899.000000</td>\n",
       "      <td>1899.000000</td>\n",
       "      <td>1899.000000</td>\n",
       "      <td>1899.000000</td>\n",
       "      <td>1899.000000</td>\n",
       "      <td>1899.000000</td>\n",
       "    </tr>\n",
       "    <tr>\n",
       "      <th>mean</th>\n",
       "      <td>228123.525540</td>\n",
       "      <td>2009.720379</td>\n",
       "      <td>59.558715</td>\n",
       "      <td>0.667637</td>\n",
       "      <td>0.721256</td>\n",
       "      <td>5.379147</td>\n",
       "      <td>-5.503538</td>\n",
       "      <td>0.553976</td>\n",
       "      <td>0.104413</td>\n",
       "      <td>0.127722</td>\n",
       "      <td>0.015525</td>\n",
       "      <td>0.181934</td>\n",
       "      <td>0.552579</td>\n",
       "      <td>120.115425</td>\n",
       "    </tr>\n",
       "    <tr>\n",
       "      <th>std</th>\n",
       "      <td>39116.687604</td>\n",
       "      <td>5.725938</td>\n",
       "      <td>21.683909</td>\n",
       "      <td>0.140547</td>\n",
       "      <td>0.152511</td>\n",
       "      <td>3.610882</td>\n",
       "      <td>1.931067</td>\n",
       "      <td>0.497209</td>\n",
       "      <td>0.096523</td>\n",
       "      <td>0.172951</td>\n",
       "      <td>0.089036</td>\n",
       "      <td>0.140827</td>\n",
       "      <td>0.220361</td>\n",
       "      <td>26.986107</td>\n",
       "    </tr>\n",
       "    <tr>\n",
       "      <th>min</th>\n",
       "      <td>113000.000000</td>\n",
       "      <td>2000.000000</td>\n",
       "      <td>0.000000</td>\n",
       "      <td>0.129000</td>\n",
       "      <td>0.054900</td>\n",
       "      <td>0.000000</td>\n",
       "      <td>-20.514000</td>\n",
       "      <td>0.000000</td>\n",
       "      <td>0.023200</td>\n",
       "      <td>0.000019</td>\n",
       "      <td>0.000000</td>\n",
       "      <td>0.021500</td>\n",
       "      <td>0.038100</td>\n",
       "      <td>60.019000</td>\n",
       "    </tr>\n",
       "    <tr>\n",
       "      <th>25%</th>\n",
       "      <td>203273.000000</td>\n",
       "      <td>2005.000000</td>\n",
       "      <td>56.000000</td>\n",
       "      <td>0.581000</td>\n",
       "      <td>0.624500</td>\n",
       "      <td>2.000000</td>\n",
       "      <td>-6.480000</td>\n",
       "      <td>0.000000</td>\n",
       "      <td>0.039900</td>\n",
       "      <td>0.013550</td>\n",
       "      <td>0.000000</td>\n",
       "      <td>0.088750</td>\n",
       "      <td>0.389500</td>\n",
       "      <td>98.605000</td>\n",
       "    </tr>\n",
       "    <tr>\n",
       "      <th>50%</th>\n",
       "      <td>222920.000000</td>\n",
       "      <td>2010.000000</td>\n",
       "      <td>65.000000</td>\n",
       "      <td>0.676000</td>\n",
       "      <td>0.738000</td>\n",
       "      <td>6.000000</td>\n",
       "      <td>-5.279000</td>\n",
       "      <td>1.000000</td>\n",
       "      <td>0.061300</td>\n",
       "      <td>0.055300</td>\n",
       "      <td>0.000000</td>\n",
       "      <td>0.125000</td>\n",
       "      <td>0.559000</td>\n",
       "      <td>120.028000</td>\n",
       "    </tr>\n",
       "    <tr>\n",
       "      <th>75%</th>\n",
       "      <td>247086.000000</td>\n",
       "      <td>2015.000000</td>\n",
       "      <td>73.000000</td>\n",
       "      <td>0.765000</td>\n",
       "      <td>0.839000</td>\n",
       "      <td>8.000000</td>\n",
       "      <td>-4.167000</td>\n",
       "      <td>1.000000</td>\n",
       "      <td>0.130500</td>\n",
       "      <td>0.175000</td>\n",
       "      <td>0.000064</td>\n",
       "      <td>0.242000</td>\n",
       "      <td>0.730500</td>\n",
       "      <td>134.124500</td>\n",
       "    </tr>\n",
       "    <tr>\n",
       "      <th>max</th>\n",
       "      <td>484146.000000</td>\n",
       "      <td>2019.000000</td>\n",
       "      <td>89.000000</td>\n",
       "      <td>0.975000</td>\n",
       "      <td>0.999000</td>\n",
       "      <td>11.000000</td>\n",
       "      <td>-0.276000</td>\n",
       "      <td>1.000000</td>\n",
       "      <td>0.576000</td>\n",
       "      <td>0.976000</td>\n",
       "      <td>0.985000</td>\n",
       "      <td>0.853000</td>\n",
       "      <td>0.973000</td>\n",
       "      <td>210.851000</td>\n",
       "    </tr>\n",
       "  </tbody>\n",
       "</table>\n",
       "</div>"
      ],
      "text/plain": [
       "         duration_ms         year   popularity  danceability       energy  \\\n",
       "count    1899.000000  1899.000000  1899.000000   1899.000000  1899.000000   \n",
       "mean   228123.525540  2009.720379    59.558715      0.667637     0.721256   \n",
       "std     39116.687604     5.725938    21.683909      0.140547     0.152511   \n",
       "min    113000.000000  2000.000000     0.000000      0.129000     0.054900   \n",
       "25%    203273.000000  2005.000000    56.000000      0.581000     0.624500   \n",
       "50%    222920.000000  2010.000000    65.000000      0.676000     0.738000   \n",
       "75%    247086.000000  2015.000000    73.000000      0.765000     0.839000   \n",
       "max    484146.000000  2019.000000    89.000000      0.975000     0.999000   \n",
       "\n",
       "               key     loudness         mode  speechiness  acousticness  \\\n",
       "count  1899.000000  1899.000000  1899.000000  1899.000000   1899.000000   \n",
       "mean      5.379147    -5.503538     0.553976     0.104413      0.127722   \n",
       "std       3.610882     1.931067     0.497209     0.096523      0.172951   \n",
       "min       0.000000   -20.514000     0.000000     0.023200      0.000019   \n",
       "25%       2.000000    -6.480000     0.000000     0.039900      0.013550   \n",
       "50%       6.000000    -5.279000     1.000000     0.061300      0.055300   \n",
       "75%       8.000000    -4.167000     1.000000     0.130500      0.175000   \n",
       "max      11.000000    -0.276000     1.000000     0.576000      0.976000   \n",
       "\n",
       "       instrumentalness     liveness      valence        tempo  \n",
       "count       1899.000000  1899.000000  1899.000000  1899.000000  \n",
       "mean           0.015525     0.181934     0.552579   120.115425  \n",
       "std            0.089036     0.140827     0.220361    26.986107  \n",
       "min            0.000000     0.021500     0.038100    60.019000  \n",
       "25%            0.000000     0.088750     0.389500    98.605000  \n",
       "50%            0.000000     0.125000     0.559000   120.028000  \n",
       "75%            0.000064     0.242000     0.730500   134.124500  \n",
       "max            0.985000     0.853000     0.973000   210.851000  "
      ]
     },
     "execution_count": 9,
     "metadata": {},
     "output_type": "execute_result"
    }
   ],
   "source": [
    "#summary statistics per variable\n",
    "df.describe()"
   ]
  },
  {
   "cell_type": "code",
   "execution_count": 10,
   "id": "516f64e5",
   "metadata": {
    "scrolled": true
   },
   "outputs": [
    {
     "data": {
      "image/png": "[encoded data removed]",
      "text/plain": [
       "<Figure size 1440x1080 with 16 Axes>"
      ]
     },
     "metadata": {
      "needs_background": "light"
     },
     "output_type": "display_data"
    }
   ],
   "source": [
    "#draw histograms for each variable\n",
    "df.hist(bins=50, figsize=(20,15))\n",
    "plt.show()"
   ]
  },
  {
   "cell_type": "markdown",
   "id": "f3d4225e",
   "metadata": {},
   "source": [
    "## Diving into the analysis"
   ]
  },
  {
   "cell_type": "markdown",
   "id": "c10bd569",
   "metadata": {},
   "source": [
    "### Song Popularity\n",
    "Which were the most popular songs?"
   ]
  },
  {
   "cell_type": "code",
   "execution_count": 11,
   "id": "263b5e42",
   "metadata": {
    "scrolled": false
   },
   "outputs": [
    {
     "data": {
      "text/html": [
       "<div>\n",
       "<style scoped>\n",
       "    .dataframe tbody tr th:only-of-type {\n",
       "        vertical-align: middle;\n",
       "    }\n",
       "\n",
       "    .dataframe tbody tr th {\n",
       "        vertical-align: top;\n",
       "    }\n",
       "\n",
       "    .dataframe thead th {\n",
       "        text-align: right;\n",
       "    }\n",
       "</style>\n",
       "<table border=\"1\" class=\"dataframe\">\n",
       "  <thead>\n",
       "    <tr style=\"text-align: right;\">\n",
       "      <th></th>\n",
       "      <th>artist</th>\n",
       "      <th>song</th>\n",
       "      <th>duration_ms</th>\n",
       "      <th>explicit</th>\n",
       "      <th>year</th>\n",
       "      <th>popularity</th>\n",
       "      <th>danceability</th>\n",
       "      <th>energy</th>\n",
       "      <th>key</th>\n",
       "      <th>loudness</th>\n",
       "      <th>mode</th>\n",
       "      <th>speechiness</th>\n",
       "      <th>acousticness</th>\n",
       "      <th>instrumentalness</th>\n",
       "      <th>liveness</th>\n",
       "      <th>valence</th>\n",
       "      <th>tempo</th>\n",
       "      <th>genre</th>\n",
       "    </tr>\n",
       "  </thead>\n",
       "  <tbody>\n",
       "    <tr>\n",
       "      <th>1322</th>\n",
       "      <td>The Neighbourhood</td>\n",
       "      <td>Sweater Weather</td>\n",
       "      <td>240400</td>\n",
       "      <td>False</td>\n",
       "      <td>2013</td>\n",
       "      <td>89</td>\n",
       "      <td>0.612</td>\n",
       "      <td>0.807</td>\n",
       "      <td>10</td>\n",
       "      <td>-2.810</td>\n",
       "      <td>1</td>\n",
       "      <td>0.0336</td>\n",
       "      <td>0.04950</td>\n",
       "      <td>0.017700</td>\n",
       "      <td>0.1010</td>\n",
       "      <td>0.398</td>\n",
       "      <td>124.053</td>\n",
       "      <td>rock, pop</td>\n",
       "    </tr>\n",
       "    <tr>\n",
       "      <th>1311</th>\n",
       "      <td>Tom Odell</td>\n",
       "      <td>Another Love</td>\n",
       "      <td>244360</td>\n",
       "      <td>True</td>\n",
       "      <td>2013</td>\n",
       "      <td>88</td>\n",
       "      <td>0.445</td>\n",
       "      <td>0.537</td>\n",
       "      <td>4</td>\n",
       "      <td>-8.532</td>\n",
       "      <td>0</td>\n",
       "      <td>0.0400</td>\n",
       "      <td>0.69500</td>\n",
       "      <td>0.000017</td>\n",
       "      <td>0.0944</td>\n",
       "      <td>0.131</td>\n",
       "      <td>122.769</td>\n",
       "      <td>pop</td>\n",
       "    </tr>\n",
       "    <tr>\n",
       "      <th>201</th>\n",
       "      <td>Eminem</td>\n",
       "      <td>Without Me</td>\n",
       "      <td>290320</td>\n",
       "      <td>True</td>\n",
       "      <td>2002</td>\n",
       "      <td>87</td>\n",
       "      <td>0.908</td>\n",
       "      <td>0.669</td>\n",
       "      <td>7</td>\n",
       "      <td>-2.827</td>\n",
       "      <td>1</td>\n",
       "      <td>0.0738</td>\n",
       "      <td>0.00286</td>\n",
       "      <td>0.000000</td>\n",
       "      <td>0.2370</td>\n",
       "      <td>0.662</td>\n",
       "      <td>112.238</td>\n",
       "      <td>hip hop</td>\n",
       "    </tr>\n",
       "    <tr>\n",
       "      <th>6</th>\n",
       "      <td>Eminem</td>\n",
       "      <td>The Real Slim Shady</td>\n",
       "      <td>284200</td>\n",
       "      <td>True</td>\n",
       "      <td>2000</td>\n",
       "      <td>86</td>\n",
       "      <td>0.949</td>\n",
       "      <td>0.661</td>\n",
       "      <td>5</td>\n",
       "      <td>-4.244</td>\n",
       "      <td>0</td>\n",
       "      <td>0.0572</td>\n",
       "      <td>0.03020</td>\n",
       "      <td>0.000000</td>\n",
       "      <td>0.0454</td>\n",
       "      <td>0.760</td>\n",
       "      <td>104.504</td>\n",
       "      <td>hip hop</td>\n",
       "    </tr>\n",
       "    <tr>\n",
       "      <th>1819</th>\n",
       "      <td>Billie Eilish</td>\n",
       "      <td>lovely (with Khalid)</td>\n",
       "      <td>200185</td>\n",
       "      <td>False</td>\n",
       "      <td>2018</td>\n",
       "      <td>86</td>\n",
       "      <td>0.351</td>\n",
       "      <td>0.296</td>\n",
       "      <td>4</td>\n",
       "      <td>-10.109</td>\n",
       "      <td>0</td>\n",
       "      <td>0.0333</td>\n",
       "      <td>0.93400</td>\n",
       "      <td>0.000000</td>\n",
       "      <td>0.0950</td>\n",
       "      <td>0.120</td>\n",
       "      <td>115.284</td>\n",
       "      <td>pop, Dance/Electronic</td>\n",
       "    </tr>\n",
       "    <tr>\n",
       "      <th>1613</th>\n",
       "      <td>WILLOW</td>\n",
       "      <td>Wait a Minute!</td>\n",
       "      <td>196520</td>\n",
       "      <td>False</td>\n",
       "      <td>2015</td>\n",
       "      <td>86</td>\n",
       "      <td>0.764</td>\n",
       "      <td>0.705</td>\n",
       "      <td>3</td>\n",
       "      <td>-5.279</td>\n",
       "      <td>0</td>\n",
       "      <td>0.0278</td>\n",
       "      <td>0.03710</td>\n",
       "      <td>0.000019</td>\n",
       "      <td>0.0943</td>\n",
       "      <td>0.672</td>\n",
       "      <td>101.003</td>\n",
       "      <td>pop, R&amp;B, Dance/Electronic</td>\n",
       "    </tr>\n",
       "    <tr>\n",
       "      <th>1999</th>\n",
       "      <td>Post Malone</td>\n",
       "      <td>Circles</td>\n",
       "      <td>215280</td>\n",
       "      <td>False</td>\n",
       "      <td>2019</td>\n",
       "      <td>85</td>\n",
       "      <td>0.695</td>\n",
       "      <td>0.762</td>\n",
       "      <td>0</td>\n",
       "      <td>-3.497</td>\n",
       "      <td>1</td>\n",
       "      <td>0.0395</td>\n",
       "      <td>0.19200</td>\n",
       "      <td>0.002440</td>\n",
       "      <td>0.0863</td>\n",
       "      <td>0.553</td>\n",
       "      <td>120.042</td>\n",
       "      <td>hip hop</td>\n",
       "    </tr>\n",
       "    <tr>\n",
       "      <th>1514</th>\n",
       "      <td>Avicii</td>\n",
       "      <td>The Nights</td>\n",
       "      <td>176658</td>\n",
       "      <td>False</td>\n",
       "      <td>2014</td>\n",
       "      <td>85</td>\n",
       "      <td>0.527</td>\n",
       "      <td>0.835</td>\n",
       "      <td>6</td>\n",
       "      <td>-5.298</td>\n",
       "      <td>1</td>\n",
       "      <td>0.0433</td>\n",
       "      <td>0.01660</td>\n",
       "      <td>0.000000</td>\n",
       "      <td>0.2490</td>\n",
       "      <td>0.654</td>\n",
       "      <td>125.983</td>\n",
       "      <td>pop, Dance/Electronic</td>\n",
       "    </tr>\n",
       "    <tr>\n",
       "      <th>1709</th>\n",
       "      <td>Ed Sheeran</td>\n",
       "      <td>Perfect</td>\n",
       "      <td>263400</td>\n",
       "      <td>False</td>\n",
       "      <td>2017</td>\n",
       "      <td>85</td>\n",
       "      <td>0.599</td>\n",
       "      <td>0.448</td>\n",
       "      <td>8</td>\n",
       "      <td>-6.312</td>\n",
       "      <td>1</td>\n",
       "      <td>0.0232</td>\n",
       "      <td>0.16300</td>\n",
       "      <td>0.000000</td>\n",
       "      <td>0.1060</td>\n",
       "      <td>0.168</td>\n",
       "      <td>95.050</td>\n",
       "      <td>pop</td>\n",
       "    </tr>\n",
       "    <tr>\n",
       "      <th>1227</th>\n",
       "      <td>Bruno Mars</td>\n",
       "      <td>Locked out of Heaven</td>\n",
       "      <td>233478</td>\n",
       "      <td>False</td>\n",
       "      <td>2012</td>\n",
       "      <td>85</td>\n",
       "      <td>0.726</td>\n",
       "      <td>0.698</td>\n",
       "      <td>5</td>\n",
       "      <td>-4.165</td>\n",
       "      <td>1</td>\n",
       "      <td>0.0431</td>\n",
       "      <td>0.04900</td>\n",
       "      <td>0.000000</td>\n",
       "      <td>0.3090</td>\n",
       "      <td>0.867</td>\n",
       "      <td>143.994</td>\n",
       "      <td>pop</td>\n",
       "    </tr>\n",
       "  </tbody>\n",
       "</table>\n",
       "</div>"
      ],
      "text/plain": [
       "                 artist                  song  duration_ms  explicit  year  \\\n",
       "1322  The Neighbourhood       Sweater Weather       240400     False  2013   \n",
       "1311          Tom Odell          Another Love       244360      True  2013   \n",
       "201              Eminem            Without Me       290320      True  2002   \n",
       "6                Eminem   The Real Slim Shady       284200      True  2000   \n",
       "1819      Billie Eilish  lovely (with Khalid)       200185     False  2018   \n",
       "1613             WILLOW        Wait a Minute!       196520     False  2015   \n",
       "1999        Post Malone               Circles       215280     False  2019   \n",
       "1514             Avicii            The Nights       176658     False  2014   \n",
       "1709         Ed Sheeran               Perfect       263400     False  2017   \n",
       "1227         Bruno Mars  Locked out of Heaven       233478     False  2012   \n",
       "\n",
       "      popularity  danceability  energy  key  loudness  mode  speechiness  \\\n",
       "1322          89         0.612   0.807   10    -2.810     1       0.0336   \n",
       "1311          88         0.445   0.537    4    -8.532     0       0.0400   \n",
       "201           87         0.908   0.669    7    -2.827     1       0.0738   \n",
       "6             86         0.949   0.661    5    -4.244     0       0.0572   \n",
       "1819          86         0.351   0.296    4   -10.109     0       0.0333   \n",
       "1613          86         0.764   0.705    3    -5.279     0       0.0278   \n",
       "1999          85         0.695   0.762    0    -3.497     1       0.0395   \n",
       "1514          85         0.527   0.835    6    -5.298     1       0.0433   \n",
       "1709          85         0.599   0.448    8    -6.312     1       0.0232   \n",
       "1227          85         0.726   0.698    5    -4.165     1       0.0431   \n",
       "\n",
       "      acousticness  instrumentalness  liveness  valence    tempo  \\\n",
       "1322       0.04950          0.017700    0.1010    0.398  124.053   \n",
       "1311       0.69500          0.000017    0.0944    0.131  122.769   \n",
       "201        0.00286          0.000000    0.2370    0.662  112.238   \n",
       "6          0.03020          0.000000    0.0454    0.760  104.504   \n",
       "1819       0.93400          0.000000    0.0950    0.120  115.284   \n",
       "1613       0.03710          0.000019    0.0943    0.672  101.003   \n",
       "1999       0.19200          0.002440    0.0863    0.553  120.042   \n",
       "1514       0.01660          0.000000    0.2490    0.654  125.983   \n",
       "1709       0.16300          0.000000    0.1060    0.168   95.050   \n",
       "1227       0.04900          0.000000    0.3090    0.867  143.994   \n",
       "\n",
       "                           genre  \n",
       "1322                   rock, pop  \n",
       "1311                         pop  \n",
       "201                      hip hop  \n",
       "6                        hip hop  \n",
       "1819       pop, Dance/Electronic  \n",
       "1613  pop, R&B, Dance/Electronic  \n",
       "1999                     hip hop  \n",
       "1514       pop, Dance/Electronic  \n",
       "1709                         pop  \n",
       "1227                         pop  "
      ]
     },
     "execution_count": 11,
     "metadata": {},
     "output_type": "execute_result"
    }
   ],
   "source": [
    "popular_songs = df.sort_values('popularity',ascending=False)\n",
    "popular_songs.head(10)"
   ]
  },
  {
   "cell_type": "markdown",
   "id": "c8b4773a",
   "metadata": {},
   "source": [
    "#### Top Hits Songs By Year"
   ]
  },
  {
   "cell_type": "code",
   "execution_count": 12,
   "id": "78667417",
   "metadata": {
    "scrolled": true
   },
   "outputs": [
    {
     "data": {
      "text/html": [
       "<div>\n",
       "<style scoped>\n",
       "    .dataframe tbody tr th:only-of-type {\n",
       "        vertical-align: middle;\n",
       "    }\n",
       "\n",
       "    .dataframe tbody tr th {\n",
       "        vertical-align: top;\n",
       "    }\n",
       "\n",
       "    .dataframe thead th {\n",
       "        text-align: right;\n",
       "    }\n",
       "</style>\n",
       "<table border=\"1\" class=\"dataframe\">\n",
       "  <thead>\n",
       "    <tr style=\"text-align: right;\">\n",
       "      <th></th>\n",
       "      <th>year</th>\n",
       "      <th>songs</th>\n",
       "    </tr>\n",
       "  </thead>\n",
       "  <tbody>\n",
       "    <tr>\n",
       "      <th>0</th>\n",
       "      <td>2000</td>\n",
       "      <td>71</td>\n",
       "    </tr>\n",
       "    <tr>\n",
       "      <th>1</th>\n",
       "      <td>2001</td>\n",
       "      <td>106</td>\n",
       "    </tr>\n",
       "    <tr>\n",
       "      <th>2</th>\n",
       "      <td>2002</td>\n",
       "      <td>86</td>\n",
       "    </tr>\n",
       "    <tr>\n",
       "      <th>3</th>\n",
       "      <td>2003</td>\n",
       "      <td>91</td>\n",
       "    </tr>\n",
       "    <tr>\n",
       "      <th>4</th>\n",
       "      <td>2004</td>\n",
       "      <td>95</td>\n",
       "    </tr>\n",
       "    <tr>\n",
       "      <th>5</th>\n",
       "      <td>2005</td>\n",
       "      <td>101</td>\n",
       "    </tr>\n",
       "    <tr>\n",
       "      <th>6</th>\n",
       "      <td>2006</td>\n",
       "      <td>93</td>\n",
       "    </tr>\n",
       "    <tr>\n",
       "      <th>7</th>\n",
       "      <td>2007</td>\n",
       "      <td>90</td>\n",
       "    </tr>\n",
       "    <tr>\n",
       "      <th>8</th>\n",
       "      <td>2008</td>\n",
       "      <td>91</td>\n",
       "    </tr>\n",
       "    <tr>\n",
       "      <th>9</th>\n",
       "      <td>2009</td>\n",
       "      <td>82</td>\n",
       "    </tr>\n",
       "    <tr>\n",
       "      <th>10</th>\n",
       "      <td>2010</td>\n",
       "      <td>103</td>\n",
       "    </tr>\n",
       "    <tr>\n",
       "      <th>11</th>\n",
       "      <td>2011</td>\n",
       "      <td>96</td>\n",
       "    </tr>\n",
       "    <tr>\n",
       "      <th>12</th>\n",
       "      <td>2012</td>\n",
       "      <td>113</td>\n",
       "    </tr>\n",
       "    <tr>\n",
       "      <th>13</th>\n",
       "      <td>2013</td>\n",
       "      <td>87</td>\n",
       "    </tr>\n",
       "    <tr>\n",
       "      <th>14</th>\n",
       "      <td>2014</td>\n",
       "      <td>100</td>\n",
       "    </tr>\n",
       "    <tr>\n",
       "      <th>15</th>\n",
       "      <td>2015</td>\n",
       "      <td>93</td>\n",
       "    </tr>\n",
       "    <tr>\n",
       "      <th>16</th>\n",
       "      <td>2016</td>\n",
       "      <td>98</td>\n",
       "    </tr>\n",
       "    <tr>\n",
       "      <th>17</th>\n",
       "      <td>2017</td>\n",
       "      <td>110</td>\n",
       "    </tr>\n",
       "    <tr>\n",
       "      <th>18</th>\n",
       "      <td>2018</td>\n",
       "      <td>104</td>\n",
       "    </tr>\n",
       "    <tr>\n",
       "      <th>19</th>\n",
       "      <td>2019</td>\n",
       "      <td>89</td>\n",
       "    </tr>\n",
       "  </tbody>\n",
       "</table>\n",
       "</div>"
      ],
      "text/plain": [
       "    year  songs\n",
       "0   2000     71\n",
       "1   2001    106\n",
       "2   2002     86\n",
       "3   2003     91\n",
       "4   2004     95\n",
       "5   2005    101\n",
       "6   2006     93\n",
       "7   2007     90\n",
       "8   2008     91\n",
       "9   2009     82\n",
       "10  2010    103\n",
       "11  2011     96\n",
       "12  2012    113\n",
       "13  2013     87\n",
       "14  2014    100\n",
       "15  2015     93\n",
       "16  2016     98\n",
       "17  2017    110\n",
       "18  2018    104\n",
       "19  2019     89"
      ]
     },
     "execution_count": 12,
     "metadata": {},
     "output_type": "execute_result"
    }
   ],
   "source": [
    "songs_by_year = df.groupby('year').size().reset_index() #how many top hits per year?\n",
    "songs_by_year.columns = ['year','songs']\n",
    "songs_by_year = songs_by_year.sort_values('year',ascending=True)\n",
    "songs_by_year"
   ]
  },
  {
   "cell_type": "markdown",
   "id": "d9f77e3f",
   "metadata": {},
   "source": [
    "Plot the number of songs by year"
   ]
  },
  {
   "cell_type": "code",
   "execution_count": 13,
   "id": "bb965311",
   "metadata": {
    "scrolled": true
   },
   "outputs": [
    {
     "data": {
      "image/png": "[encoded data removed]",
      "text/plain": [
       "<Figure size 864x576 with 1 Axes>"
      ]
     },
     "metadata": {
      "needs_background": "light"
     },
     "output_type": "display_data"
    }
   ],
   "source": [
    "#create a barplot of the number of top hits per year using sns\n",
    "fig = plt.figure(figsize=(12,8))\n",
    "sns.barplot(x = 'year', y = 'songs', data = songs_by_year)\n",
    "plt.suptitle('Top Hits By Year')\n",
    "plt.show()"
   ]
  },
  {
   "cell_type": "markdown",
   "id": "9bd2a221",
   "metadata": {},
   "source": [
    "#### Song Duration\n",
    "It could be interesting to see the song duration trends over the years."
   ]
  },
  {
   "cell_type": "markdown",
   "id": "555b4bf0",
   "metadata": {},
   "source": [
    "Since song duration is in milliseconds, I think it would be a good idea to first convert duration to seconds."
   ]
  },
  {
   "cell_type": "code",
   "execution_count": 14,
   "id": "14867fd7",
   "metadata": {},
   "outputs": [],
   "source": [
    "df['duration_s'] = df['duration_ms'] / 1000"
   ]
  },
  {
   "cell_type": "code",
   "execution_count": 15,
   "id": "f60e8f4c",
   "metadata": {},
   "outputs": [],
   "source": [
    "df.drop('duration_ms', axis=1, inplace=True)"
   ]
  },
  {
   "cell_type": "code",
   "execution_count": 16,
   "id": "4cd5d6cc",
   "metadata": {
    "scrolled": false
   },
   "outputs": [
    {
     "data": {
      "text/html": [
       "<div>\n",
       "<style scoped>\n",
       "    .dataframe tbody tr th:only-of-type {\n",
       "        vertical-align: middle;\n",
       "    }\n",
       "\n",
       "    .dataframe tbody tr th {\n",
       "        vertical-align: top;\n",
       "    }\n",
       "\n",
       "    .dataframe thead th {\n",
       "        text-align: right;\n",
       "    }\n",
       "</style>\n",
       "<table border=\"1\" class=\"dataframe\">\n",
       "  <thead>\n",
       "    <tr style=\"text-align: right;\">\n",
       "      <th></th>\n",
       "      <th>artist</th>\n",
       "      <th>song</th>\n",
       "      <th>explicit</th>\n",
       "      <th>year</th>\n",
       "      <th>popularity</th>\n",
       "      <th>danceability</th>\n",
       "      <th>energy</th>\n",
       "      <th>key</th>\n",
       "      <th>loudness</th>\n",
       "      <th>mode</th>\n",
       "      <th>speechiness</th>\n",
       "      <th>acousticness</th>\n",
       "      <th>instrumentalness</th>\n",
       "      <th>liveness</th>\n",
       "      <th>valence</th>\n",
       "      <th>tempo</th>\n",
       "      <th>genre</th>\n",
       "      <th>duration_s</th>\n",
       "    </tr>\n",
       "  </thead>\n",
       "  <tbody>\n",
       "    <tr>\n",
       "      <th>0</th>\n",
       "      <td>Britney Spears</td>\n",
       "      <td>Oops!...I Did It Again</td>\n",
       "      <td>False</td>\n",
       "      <td>2000</td>\n",
       "      <td>77</td>\n",
       "      <td>0.751</td>\n",
       "      <td>0.834</td>\n",
       "      <td>1</td>\n",
       "      <td>-5.444</td>\n",
       "      <td>0</td>\n",
       "      <td>0.0437</td>\n",
       "      <td>0.3000</td>\n",
       "      <td>0.000018</td>\n",
       "      <td>0.3550</td>\n",
       "      <td>0.894</td>\n",
       "      <td>95.053</td>\n",
       "      <td>pop</td>\n",
       "      <td>211.160</td>\n",
       "    </tr>\n",
       "    <tr>\n",
       "      <th>3</th>\n",
       "      <td>Bon Jovi</td>\n",
       "      <td>It's My Life</td>\n",
       "      <td>False</td>\n",
       "      <td>2000</td>\n",
       "      <td>78</td>\n",
       "      <td>0.551</td>\n",
       "      <td>0.913</td>\n",
       "      <td>0</td>\n",
       "      <td>-4.063</td>\n",
       "      <td>0</td>\n",
       "      <td>0.0466</td>\n",
       "      <td>0.0263</td>\n",
       "      <td>0.000013</td>\n",
       "      <td>0.3470</td>\n",
       "      <td>0.544</td>\n",
       "      <td>119.992</td>\n",
       "      <td>rock, metal</td>\n",
       "      <td>224.493</td>\n",
       "    </tr>\n",
       "    <tr>\n",
       "      <th>4</th>\n",
       "      <td>*NSYNC</td>\n",
       "      <td>Bye Bye Bye</td>\n",
       "      <td>False</td>\n",
       "      <td>2000</td>\n",
       "      <td>65</td>\n",
       "      <td>0.614</td>\n",
       "      <td>0.928</td>\n",
       "      <td>8</td>\n",
       "      <td>-4.806</td>\n",
       "      <td>0</td>\n",
       "      <td>0.0516</td>\n",
       "      <td>0.0408</td>\n",
       "      <td>0.001040</td>\n",
       "      <td>0.0845</td>\n",
       "      <td>0.879</td>\n",
       "      <td>172.656</td>\n",
       "      <td>pop</td>\n",
       "      <td>200.560</td>\n",
       "    </tr>\n",
       "    <tr>\n",
       "      <th>6</th>\n",
       "      <td>Eminem</td>\n",
       "      <td>The Real Slim Shady</td>\n",
       "      <td>True</td>\n",
       "      <td>2000</td>\n",
       "      <td>86</td>\n",
       "      <td>0.949</td>\n",
       "      <td>0.661</td>\n",
       "      <td>5</td>\n",
       "      <td>-4.244</td>\n",
       "      <td>0</td>\n",
       "      <td>0.0572</td>\n",
       "      <td>0.0302</td>\n",
       "      <td>0.000000</td>\n",
       "      <td>0.0454</td>\n",
       "      <td>0.760</td>\n",
       "      <td>104.504</td>\n",
       "      <td>hip hop</td>\n",
       "      <td>284.200</td>\n",
       "    </tr>\n",
       "    <tr>\n",
       "      <th>7</th>\n",
       "      <td>Robbie Williams</td>\n",
       "      <td>Rock DJ</td>\n",
       "      <td>False</td>\n",
       "      <td>2000</td>\n",
       "      <td>68</td>\n",
       "      <td>0.708</td>\n",
       "      <td>0.772</td>\n",
       "      <td>7</td>\n",
       "      <td>-4.264</td>\n",
       "      <td>1</td>\n",
       "      <td>0.0322</td>\n",
       "      <td>0.0267</td>\n",
       "      <td>0.000000</td>\n",
       "      <td>0.4670</td>\n",
       "      <td>0.861</td>\n",
       "      <td>103.035</td>\n",
       "      <td>pop, rock</td>\n",
       "      <td>258.560</td>\n",
       "    </tr>\n",
       "  </tbody>\n",
       "</table>\n",
       "</div>"
      ],
      "text/plain": [
       "            artist                    song  explicit  year  popularity  \\\n",
       "0   Britney Spears  Oops!...I Did It Again     False  2000          77   \n",
       "3         Bon Jovi            It's My Life     False  2000          78   \n",
       "4           *NSYNC             Bye Bye Bye     False  2000          65   \n",
       "6           Eminem     The Real Slim Shady      True  2000          86   \n",
       "7  Robbie Williams                 Rock DJ     False  2000          68   \n",
       "\n",
       "   danceability  energy  key  loudness  mode  speechiness  acousticness  \\\n",
       "0         0.751   0.834    1    -5.444     0       0.0437        0.3000   \n",
       "3         0.551   0.913    0    -4.063     0       0.0466        0.0263   \n",
       "4         0.614   0.928    8    -4.806     0       0.0516        0.0408   \n",
       "6         0.949   0.661    5    -4.244     0       0.0572        0.0302   \n",
       "7         0.708   0.772    7    -4.264     1       0.0322        0.0267   \n",
       "\n",
       "   instrumentalness  liveness  valence    tempo        genre  duration_s  \n",
       "0          0.000018    0.3550    0.894   95.053          pop     211.160  \n",
       "3          0.000013    0.3470    0.544  119.992  rock, metal     224.493  \n",
       "4          0.001040    0.0845    0.879  172.656          pop     200.560  \n",
       "6          0.000000    0.0454    0.760  104.504      hip hop     284.200  \n",
       "7          0.000000    0.4670    0.861  103.035    pop, rock     258.560  "
      ]
     },
     "execution_count": 16,
     "metadata": {},
     "output_type": "execute_result"
    }
   ],
   "source": [
    "df.head()"
   ]
  },
  {
   "cell_type": "markdown",
   "id": "57965a3f",
   "metadata": {},
   "source": [
    "Let us see the average song duration."
   ]
  },
  {
   "cell_type": "code",
   "execution_count": 17,
   "id": "e3bc562e",
   "metadata": {
    "scrolled": true
   },
   "outputs": [
    {
     "data": {
      "text/plain": [
       "228.12"
      ]
     },
     "execution_count": 17,
     "metadata": {},
     "output_type": "execute_result"
    }
   ],
   "source": [
    "np.round(df['duration_s'].mean(), 2)"
   ]
  },
  {
   "cell_type": "markdown",
   "id": "876a04b7",
   "metadata": {},
   "source": [
    "#### Has The Average Song Duration Changed Over Time?"
   ]
  },
  {
   "cell_type": "code",
   "execution_count": 18,
   "id": "c0408e35",
   "metadata": {
    "scrolled": false
   },
   "outputs": [
    {
     "data": {
      "text/html": [
       "<div>\n",
       "<style scoped>\n",
       "    .dataframe tbody tr th:only-of-type {\n",
       "        vertical-align: middle;\n",
       "    }\n",
       "\n",
       "    .dataframe tbody tr th {\n",
       "        vertical-align: top;\n",
       "    }\n",
       "\n",
       "    .dataframe thead th {\n",
       "        text-align: right;\n",
       "    }\n",
       "</style>\n",
       "<table border=\"1\" class=\"dataframe\">\n",
       "  <thead>\n",
       "    <tr style=\"text-align: right;\">\n",
       "      <th></th>\n",
       "      <th>year</th>\n",
       "      <th>duration_s</th>\n",
       "    </tr>\n",
       "  </thead>\n",
       "  <tbody>\n",
       "    <tr>\n",
       "      <th>0</th>\n",
       "      <td>2000</td>\n",
       "      <td>250.951282</td>\n",
       "    </tr>\n",
       "    <tr>\n",
       "      <th>1</th>\n",
       "      <td>2001</td>\n",
       "      <td>242.871519</td>\n",
       "    </tr>\n",
       "    <tr>\n",
       "      <th>2</th>\n",
       "      <td>2002</td>\n",
       "      <td>251.941628</td>\n",
       "    </tr>\n",
       "    <tr>\n",
       "      <th>3</th>\n",
       "      <td>2003</td>\n",
       "      <td>236.625440</td>\n",
       "    </tr>\n",
       "    <tr>\n",
       "      <th>4</th>\n",
       "      <td>2004</td>\n",
       "      <td>233.702726</td>\n",
       "    </tr>\n",
       "    <tr>\n",
       "      <th>5</th>\n",
       "      <td>2005</td>\n",
       "      <td>237.347267</td>\n",
       "    </tr>\n",
       "    <tr>\n",
       "      <th>6</th>\n",
       "      <td>2006</td>\n",
       "      <td>238.127656</td>\n",
       "    </tr>\n",
       "    <tr>\n",
       "      <th>7</th>\n",
       "      <td>2007</td>\n",
       "      <td>232.155400</td>\n",
       "    </tr>\n",
       "    <tr>\n",
       "      <th>8</th>\n",
       "      <td>2008</td>\n",
       "      <td>234.391297</td>\n",
       "    </tr>\n",
       "    <tr>\n",
       "      <th>9</th>\n",
       "      <td>2009</td>\n",
       "      <td>235.661146</td>\n",
       "    </tr>\n",
       "    <tr>\n",
       "      <th>10</th>\n",
       "      <td>2010</td>\n",
       "      <td>220.721699</td>\n",
       "    </tr>\n",
       "    <tr>\n",
       "      <th>11</th>\n",
       "      <td>2011</td>\n",
       "      <td>228.664562</td>\n",
       "    </tr>\n",
       "    <tr>\n",
       "      <th>12</th>\n",
       "      <td>2012</td>\n",
       "      <td>223.750381</td>\n",
       "    </tr>\n",
       "    <tr>\n",
       "      <th>13</th>\n",
       "      <td>2013</td>\n",
       "      <td>230.983368</td>\n",
       "    </tr>\n",
       "    <tr>\n",
       "      <th>14</th>\n",
       "      <td>2014</td>\n",
       "      <td>219.870760</td>\n",
       "    </tr>\n",
       "    <tr>\n",
       "      <th>15</th>\n",
       "      <td>2015</td>\n",
       "      <td>219.056215</td>\n",
       "    </tr>\n",
       "    <tr>\n",
       "      <th>16</th>\n",
       "      <td>2016</td>\n",
       "      <td>220.457347</td>\n",
       "    </tr>\n",
       "    <tr>\n",
       "      <th>17</th>\n",
       "      <td>2017</td>\n",
       "      <td>212.369900</td>\n",
       "    </tr>\n",
       "    <tr>\n",
       "      <th>18</th>\n",
       "      <td>2018</td>\n",
       "      <td>208.443192</td>\n",
       "    </tr>\n",
       "    <tr>\n",
       "      <th>19</th>\n",
       "      <td>2019</td>\n",
       "      <td>196.728775</td>\n",
       "    </tr>\n",
       "  </tbody>\n",
       "</table>\n",
       "</div>"
      ],
      "text/plain": [
       "    year  duration_s\n",
       "0   2000  250.951282\n",
       "1   2001  242.871519\n",
       "2   2002  251.941628\n",
       "3   2003  236.625440\n",
       "4   2004  233.702726\n",
       "5   2005  237.347267\n",
       "6   2006  238.127656\n",
       "7   2007  232.155400\n",
       "8   2008  234.391297\n",
       "9   2009  235.661146\n",
       "10  2010  220.721699\n",
       "11  2011  228.664562\n",
       "12  2012  223.750381\n",
       "13  2013  230.983368\n",
       "14  2014  219.870760\n",
       "15  2015  219.056215\n",
       "16  2016  220.457347\n",
       "17  2017  212.369900\n",
       "18  2018  208.443192\n",
       "19  2019  196.728775"
      ]
     },
     "execution_count": 18,
     "metadata": {},
     "output_type": "execute_result"
    }
   ],
   "source": [
    "#for each year, identify the average duration of top hits\n",
    "songduration_by_year = df.groupby('year').duration_s.mean().reset_index()\n",
    "songduration_by_year"
   ]
  },
  {
   "cell_type": "code",
   "execution_count": 19,
   "id": "b7bb945a",
   "metadata": {
    "scrolled": true
   },
   "outputs": [
    {
     "data": {
      "image/png": "[encoded data removed]",
      "text/plain": [
       "<Figure size 1440x720 with 1 Axes>"
      ]
     },
     "metadata": {
      "needs_background": "light"
     },
     "output_type": "display_data"
    }
   ],
   "source": [
    "figure1 = plt.figure(figsize=(20,10))\n",
    "sp = figure1.add_subplot(1, 1, 1)\n",
    "sp.set_xticks(range(2000,2020))\n",
    "plt.plot(songduration_by_year['year'],songduration_by_year['duration_s'])\n",
    "plt.suptitle('Top Hit Song Duration Over The Years', fontsize = 18)\n",
    "plt.xlabel('Year', fontsize=12)\n",
    "plt.ylabel('Duration (in Seconds)', fontsize=12)\n",
    "plt.show()"
   ]
  },
  {
   "cell_type": "markdown",
   "id": "9f01d471",
   "metadata": {},
   "source": [
    "### Who were the most popular artists?"
   ]
  },
  {
   "cell_type": "markdown",
   "id": "fcc6f875",
   "metadata": {},
   "source": [
    "#### Identifying The Artists With Most Top Hits"
   ]
  },
  {
   "cell_type": "code",
   "execution_count": 20,
   "id": "e7bc547e",
   "metadata": {},
   "outputs": [
    {
     "data": {
      "text/plain": [
       "Rihanna           23\n",
       "Drake             23\n",
       "Eminem            21\n",
       "Calvin Harris     20\n",
       "Britney Spears    18\n",
       "David Guetta      18\n",
       "Katy Perry        16\n",
       "Beyoncé           16\n",
       "Chris Brown       16\n",
       "Taylor Swift      16\n",
       "Name: artist, dtype: int64"
      ]
     },
     "execution_count": 20,
     "metadata": {},
     "output_type": "execute_result"
    }
   ],
   "source": [
    "#see how many times each artist appears\n",
    "top_artists = df['artist'].value_counts()\n",
    "#see the top 10 artists\n",
    "top_artists.head(10)"
   ]
  },
  {
   "cell_type": "markdown",
   "id": "865cd1bb",
   "metadata": {},
   "source": [
    "We can see our top 10 artists (artists that have the most top hits) is comprised of Rihanna, Drake, Eminem, Calvin Harris, Britney Spears, David Guetta, Chris Brown, Katy Perry, Beyoncé, and Taylor Swift. Now, let us make identifying the top 10 more aesthetically pleasing by using a bar graph."
   ]
  },
  {
   "cell_type": "code",
   "execution_count": 21,
   "id": "00c73ef3",
   "metadata": {
    "scrolled": true
   },
   "outputs": [
    {
     "data": {
      "image/png": "[encoded data removed]",
      "text/plain": [
       "<Figure size 1440x720 with 1 Axes>"
      ]
     },
     "metadata": {
      "needs_background": "light"
     },
     "output_type": "display_data"
    }
   ],
   "source": [
    "top_10_art = top_artists[:10].index\n",
    "top_10_songs = top_artists[:10]\n",
    "fig = plt.figure(figsize=(20,10))\n",
    "plt.bar(top_10_art,top_10_songs, color='lightblue', edgecolor = 'black')\n",
    "plt.suptitle('Top 10 Artists Based on Number of Top Hits',fontsize ='18')\n",
    "plt.xlabel('Artist', fontsize = 14)\n",
    "plt.ylabel('Number of top hits', fontsize=14)\n",
    "plt.xticks(fontsize=12)\n",
    "plt.show()"
   ]
  },
  {
   "cell_type": "markdown",
   "id": "0393b5a3",
   "metadata": {},
   "source": [
    "#### Artists by Popularity"
   ]
  },
  {
   "cell_type": "markdown",
   "id": "bc930ef3",
   "metadata": {},
   "source": [
    "What if we take a look at artists by popularity of songs instead of the number of top hits? In other words, for each artist, what is the average of his/her songs' popularity?"
   ]
  },
  {
   "cell_type": "code",
   "execution_count": 22,
   "id": "101b2ff0",
   "metadata": {},
   "outputs": [
    {
     "data": {
      "text/plain": [
       "artist\n",
       "Tom Odell            88.0\n",
       "The Neighbourhood    87.0\n",
       "WILLOW               86.0\n",
       "Lewis Capaldi        84.0\n",
       "Gesaffelstein        84.0\n",
       "Tame Impala          83.0\n",
       "Billie Eilish        82.0\n",
       "MKTO                 82.0\n",
       "French Montana       82.0\n",
       "girl in red          82.0\n",
       "Name: popularity, dtype: float64"
      ]
     },
     "execution_count": 22,
     "metadata": {},
     "output_type": "execute_result"
    }
   ],
   "source": [
    "Artist_Pop = df.groupby('artist').popularity.mean()\n",
    "Artist_Pop = Artist_Pop.sort_values(ascending=False)\n",
    "Artist_Pop.head(10)"
   ]
  },
  {
   "cell_type": "markdown",
   "id": "48a940e7",
   "metadata": {},
   "source": [
    "#### Artists by Popularity With a Minimum of Top Hits"
   ]
  },
  {
   "cell_type": "markdown",
   "id": "d3b607d5",
   "metadata": {},
   "source": [
    "One problem that can arise is that many of these artists may only have one top hit. Therefore, what would happen if we use both the number of top hits and popularity through looking at artists by average popularity with a minimum of top hits?"
   ]
  },
  {
   "cell_type": "code",
   "execution_count": 23,
   "id": "93c62bd6",
   "metadata": {
    "scrolled": true
   },
   "outputs": [
    {
     "data": {
      "text/html": [
       "<div>\n",
       "<style scoped>\n",
       "    .dataframe tbody tr th:only-of-type {\n",
       "        vertical-align: middle;\n",
       "    }\n",
       "\n",
       "    .dataframe tbody tr th {\n",
       "        vertical-align: top;\n",
       "    }\n",
       "\n",
       "    .dataframe thead th {\n",
       "        text-align: right;\n",
       "    }\n",
       "</style>\n",
       "<table border=\"1\" class=\"dataframe\">\n",
       "  <thead>\n",
       "    <tr style=\"text-align: right;\">\n",
       "      <th></th>\n",
       "      <th>artist</th>\n",
       "      <th>popularity</th>\n",
       "      <th>songs</th>\n",
       "    </tr>\n",
       "  </thead>\n",
       "  <tbody>\n",
       "    <tr>\n",
       "      <th>0</th>\n",
       "      <td>*NSYNC</td>\n",
       "      <td>55.0</td>\n",
       "      <td>4</td>\n",
       "    </tr>\n",
       "    <tr>\n",
       "      <th>1</th>\n",
       "      <td>112</td>\n",
       "      <td>60.0</td>\n",
       "      <td>2</td>\n",
       "    </tr>\n",
       "    <tr>\n",
       "      <th>2</th>\n",
       "      <td>2 Chainz</td>\n",
       "      <td>70.0</td>\n",
       "      <td>2</td>\n",
       "    </tr>\n",
       "    <tr>\n",
       "      <th>3</th>\n",
       "      <td>21 Savage</td>\n",
       "      <td>76.0</td>\n",
       "      <td>2</td>\n",
       "    </tr>\n",
       "    <tr>\n",
       "      <th>4</th>\n",
       "      <td>2Pac</td>\n",
       "      <td>62.5</td>\n",
       "      <td>2</td>\n",
       "    </tr>\n",
       "  </tbody>\n",
       "</table>\n",
       "</div>"
      ],
      "text/plain": [
       "      artist  popularity  songs\n",
       "0     *NSYNC        55.0      4\n",
       "1        112        60.0      2\n",
       "2   2 Chainz        70.0      2\n",
       "3  21 Savage        76.0      2\n",
       "4       2Pac        62.5      2"
      ]
     },
     "execution_count": 23,
     "metadata": {},
     "output_type": "execute_result"
    }
   ],
   "source": [
    "#group artist, popularity and songs into one dataframe\n",
    "Artist_Pop = df.groupby('artist').popularity.mean().reset_index() #for each artist, what is the avg of song popularity\n",
    "Songs_by_Artist = df.groupby(\"artist\").size().reset_index() #for each artist, count the number of songs\n",
    "popularity_songs_by_artist = Artist_Pop.merge(Songs_by_Artist, on='artist') #merge artist, songs, and popularity into one\n",
    "popularity_songs_by_artist.columns = ['artist','popularity','songs']\n",
    "popularity_songs_by_artist.head()"
   ]
  },
  {
   "cell_type": "markdown",
   "id": "784b4ae7",
   "metadata": {},
   "source": [
    "What should the minimum of top hit songs be?"
   ]
  },
  {
   "cell_type": "code",
   "execution_count": 24,
   "id": "3cf413d8",
   "metadata": {
    "scrolled": false
   },
   "outputs": [
    {
     "data": {
      "text/plain": [
       "2.318681318681319"
      ]
     },
     "execution_count": 24,
     "metadata": {},
     "output_type": "execute_result"
    }
   ],
   "source": [
    "popularity_songs_by_artist.songs.mean()#average number of songs by artist"
   ]
  },
  {
   "cell_type": "markdown",
   "id": "b705c10f",
   "metadata": {},
   "source": [
    "Therefore, I think it is reasonable for us to use 5 top hits as the minimum, and in that way determine exceptional, top artists - artists with several top hits and with high song popularity."
   ]
  },
  {
   "cell_type": "code",
   "execution_count": 25,
   "id": "880ab1aa",
   "metadata": {
    "scrolled": true
   },
   "outputs": [
    {
     "data": {
      "image/png": "[encoded data removed]",
      "text/plain": [
       "<Figure size 1440x720 with 1 Axes>"
      ]
     },
     "metadata": {
      "needs_background": "light"
     },
     "output_type": "display_data"
    }
   ],
   "source": [
    "artists_greater_5 = popularity_songs_by_artist[popularity_songs_by_artist.songs >= 5]\n",
    "artists_greater_5 = artists_greater_5.sort_values('popularity', ascending=False)\n",
    "artists_greater_5 = artists_greater_5[:10]\n",
    "fig = plt.figure(figsize=(20,10))\n",
    "plt.bar(artists_greater_5['artist'],artists_greater_5['popularity'], color='green', edgecolor = 'black')\n",
    "plt.suptitle('Top 10 artists by popularity with at least 3 songs in the top hits',fontsize ='18')\n",
    "plt.xlabel('Artist', fontsize = 14)\n",
    "plt.ylabel('Average Song Popularity', fontsize=14)\n",
    "plt.xticks(fontsize=10)\n",
    "plt.show()"
   ]
  },
  {
   "cell_type": "code",
   "execution_count": 26,
   "id": "7bfbd3ae",
   "metadata": {
    "scrolled": true
   },
   "outputs": [
    {
     "data": {
      "text/html": [
       "<div>\n",
       "<style scoped>\n",
       "    .dataframe tbody tr th:only-of-type {\n",
       "        vertical-align: middle;\n",
       "    }\n",
       "\n",
       "    .dataframe tbody tr th {\n",
       "        vertical-align: top;\n",
       "    }\n",
       "\n",
       "    .dataframe thead th {\n",
       "        text-align: right;\n",
       "    }\n",
       "</style>\n",
       "<table border=\"1\" class=\"dataframe\">\n",
       "  <thead>\n",
       "    <tr style=\"text-align: right;\">\n",
       "      <th></th>\n",
       "      <th>artist</th>\n",
       "      <th>popularity</th>\n",
       "      <th>songs</th>\n",
       "    </tr>\n",
       "  </thead>\n",
       "  <tbody>\n",
       "    <tr>\n",
       "      <th>119</th>\n",
       "      <td>Bruno Mars</td>\n",
       "      <td>77.545455</td>\n",
       "      <td>11</td>\n",
       "    </tr>\n",
       "    <tr>\n",
       "      <th>497</th>\n",
       "      <td>Marshmello</td>\n",
       "      <td>75.833333</td>\n",
       "      <td>6</td>\n",
       "    </tr>\n",
       "    <tr>\n",
       "      <th>52</th>\n",
       "      <td>Arctic Monkeys</td>\n",
       "      <td>75.600000</td>\n",
       "      <td>5</td>\n",
       "    </tr>\n",
       "    <tr>\n",
       "      <th>613</th>\n",
       "      <td>Red Hot Chili Peppers</td>\n",
       "      <td>74.600000</td>\n",
       "      <td>5</td>\n",
       "    </tr>\n",
       "    <tr>\n",
       "      <th>452</th>\n",
       "      <td>Linkin Park</td>\n",
       "      <td>74.375000</td>\n",
       "      <td>8</td>\n",
       "    </tr>\n",
       "    <tr>\n",
       "      <th>164</th>\n",
       "      <td>Coldplay</td>\n",
       "      <td>74.363636</td>\n",
       "      <td>11</td>\n",
       "    </tr>\n",
       "    <tr>\n",
       "      <th>253</th>\n",
       "      <td>Fall Out Boy</td>\n",
       "      <td>73.800000</td>\n",
       "      <td>5</td>\n",
       "    </tr>\n",
       "    <tr>\n",
       "      <th>643</th>\n",
       "      <td>Sam Smith</td>\n",
       "      <td>73.428571</td>\n",
       "      <td>7</td>\n",
       "    </tr>\n",
       "    <tr>\n",
       "      <th>423</th>\n",
       "      <td>Lady Gaga</td>\n",
       "      <td>72.900000</td>\n",
       "      <td>10</td>\n",
       "    </tr>\n",
       "    <tr>\n",
       "      <th>227</th>\n",
       "      <td>Ed Sheeran</td>\n",
       "      <td>72.777778</td>\n",
       "      <td>9</td>\n",
       "    </tr>\n",
       "  </tbody>\n",
       "</table>\n",
       "</div>"
      ],
      "text/plain": [
       "                    artist  popularity  songs\n",
       "119             Bruno Mars   77.545455     11\n",
       "497             Marshmello   75.833333      6\n",
       "52          Arctic Monkeys   75.600000      5\n",
       "613  Red Hot Chili Peppers   74.600000      5\n",
       "452            Linkin Park   74.375000      8\n",
       "164               Coldplay   74.363636     11\n",
       "253           Fall Out Boy   73.800000      5\n",
       "643              Sam Smith   73.428571      7\n",
       "423              Lady Gaga   72.900000     10\n",
       "227             Ed Sheeran   72.777778      9"
      ]
     },
     "execution_count": 26,
     "metadata": {},
     "output_type": "execute_result"
    }
   ],
   "source": [
    "artists_greater_5"
   ]
  },
  {
   "cell_type": "markdown",
   "id": "f849d1bb",
   "metadata": {},
   "source": [
    "We can see that it is a completely different set of artists, and perhaps combining them with the top 10 artists with most top hits is the best way to describe the top 20 artists from the dataset. "
   ]
  },
  {
   "cell_type": "markdown",
   "id": "bb5815b5",
   "metadata": {
    "code_folding": []
   },
   "source": [
    "### Musical Genre"
   ]
  },
  {
   "cell_type": "markdown",
   "id": "11810d33",
   "metadata": {},
   "source": [
    "#### Let's see which genres are the most recurrent in the dataset."
   ]
  },
  {
   "cell_type": "code",
   "execution_count": 27,
   "id": "4b84ad66",
   "metadata": {
    "scrolled": true
   },
   "outputs": [
    {
     "data": {
      "text/html": [
       "<div>\n",
       "<style scoped>\n",
       "    .dataframe tbody tr th:only-of-type {\n",
       "        vertical-align: middle;\n",
       "    }\n",
       "\n",
       "    .dataframe tbody tr th {\n",
       "        vertical-align: top;\n",
       "    }\n",
       "\n",
       "    .dataframe thead th {\n",
       "        text-align: right;\n",
       "    }\n",
       "</style>\n",
       "<table border=\"1\" class=\"dataframe\">\n",
       "  <thead>\n",
       "    <tr style=\"text-align: right;\">\n",
       "      <th></th>\n",
       "      <th>genre</th>\n",
       "      <th>count</th>\n",
       "    </tr>\n",
       "  </thead>\n",
       "  <tbody>\n",
       "    <tr>\n",
       "      <th>0</th>\n",
       "      <td>pop</td>\n",
       "      <td>404</td>\n",
       "    </tr>\n",
       "    <tr>\n",
       "      <th>1</th>\n",
       "      <td>hip hop, pop</td>\n",
       "      <td>265</td>\n",
       "    </tr>\n",
       "    <tr>\n",
       "      <th>2</th>\n",
       "      <td>hip hop, pop, R&amp;B</td>\n",
       "      <td>232</td>\n",
       "    </tr>\n",
       "    <tr>\n",
       "      <th>3</th>\n",
       "      <td>pop, Dance/Electronic</td>\n",
       "      <td>214</td>\n",
       "    </tr>\n",
       "    <tr>\n",
       "      <th>4</th>\n",
       "      <td>pop, R&amp;B</td>\n",
       "      <td>167</td>\n",
       "    </tr>\n",
       "    <tr>\n",
       "      <th>5</th>\n",
       "      <td>hip hop</td>\n",
       "      <td>118</td>\n",
       "    </tr>\n",
       "    <tr>\n",
       "      <th>6</th>\n",
       "      <td>hip hop, pop, Dance/Electronic</td>\n",
       "      <td>75</td>\n",
       "    </tr>\n",
       "    <tr>\n",
       "      <th>7</th>\n",
       "      <td>rock</td>\n",
       "      <td>56</td>\n",
       "    </tr>\n",
       "    <tr>\n",
       "      <th>8</th>\n",
       "      <td>Dance/Electronic</td>\n",
       "      <td>40</td>\n",
       "    </tr>\n",
       "    <tr>\n",
       "      <th>9</th>\n",
       "      <td>rock, pop</td>\n",
       "      <td>37</td>\n",
       "    </tr>\n",
       "  </tbody>\n",
       "</table>\n",
       "</div>"
      ],
      "text/plain": [
       "                            genre  count\n",
       "0                             pop    404\n",
       "1                    hip hop, pop    265\n",
       "2               hip hop, pop, R&B    232\n",
       "3           pop, Dance/Electronic    214\n",
       "4                        pop, R&B    167\n",
       "5                         hip hop    118\n",
       "6  hip hop, pop, Dance/Electronic     75\n",
       "7                            rock     56\n",
       "8                Dance/Electronic     40\n",
       "9                       rock, pop     37"
      ]
     },
     "execution_count": 27,
     "metadata": {},
     "output_type": "execute_result"
    }
   ],
   "source": [
    "#top genres\n",
    "genre_values = df.groupby('genre').size().sort_values(ascending=False).reset_index()\n",
    "genre_values.columns = ['genre','count']\n",
    "genre_values = genre_values.head(10)\n",
    "genre_values"
   ]
  },
  {
   "cell_type": "code",
   "execution_count": 28,
   "id": "46a9b332",
   "metadata": {},
   "outputs": [
    {
     "data": {
      "text/plain": [
       "32.741"
      ]
     },
     "execution_count": 28,
     "metadata": {},
     "output_type": "execute_result"
    }
   ],
   "source": [
    "np.round(df.groupby('genre').size().mean(),3)"
   ]
  },
  {
   "cell_type": "code",
   "execution_count": 29,
   "id": "34e174f1",
   "metadata": {
    "scrolled": true
   },
   "outputs": [
    {
     "data": {
      "image/png": "[encoded data removed]",
      "text/plain": [
       "<Figure size 1440x720 with 1 Axes>"
      ]
     },
     "metadata": {
      "needs_background": "light"
     },
     "output_type": "display_data"
    }
   ],
   "source": [
    "fig6 = plt.figure(figsize=(20,10))\n",
    "plt.bar(genre_values['genre'], genre_values['count'], color='orange')\n",
    "plt.suptitle(\"Top 10 Genres\", fontsize=18)\n",
    "plt.xlabel('Genres',fontsize=12)\n",
    "plt.ylabel('Number of Songs in Top Hits',fontsize=12)\n",
    "plt.show()"
   ]
  },
  {
   "cell_type": "markdown",
   "id": "6db5a606",
   "metadata": {},
   "source": [
    "It seems like the most popular genres are pop, hip hop, R&B, Dance/Electronic, and Rock."
   ]
  },
  {
   "cell_type": "markdown",
   "id": "5d16f6af",
   "metadata": {},
   "source": [
    "#### Song Duration Based on Genre"
   ]
  },
  {
   "cell_type": "markdown",
   "id": "71e180b7",
   "metadata": {},
   "source": [
    "We can see that the average top hit song duration has been decreasing from 2000-2019. However, what happens if we take a look at duration by genre?"
   ]
  },
  {
   "cell_type": "code",
   "execution_count": 30,
   "id": "ced3ac6f",
   "metadata": {
    "scrolled": true
   },
   "outputs": [
    {
     "data": {
      "text/html": [
       "<div>\n",
       "<style scoped>\n",
       "    .dataframe tbody tr th:only-of-type {\n",
       "        vertical-align: middle;\n",
       "    }\n",
       "\n",
       "    .dataframe tbody tr th {\n",
       "        vertical-align: top;\n",
       "    }\n",
       "\n",
       "    .dataframe thead th {\n",
       "        text-align: right;\n",
       "    }\n",
       "</style>\n",
       "<table border=\"1\" class=\"dataframe\">\n",
       "  <thead>\n",
       "    <tr style=\"text-align: right;\">\n",
       "      <th></th>\n",
       "      <th>genre</th>\n",
       "      <th>duration_s</th>\n",
       "    </tr>\n",
       "  </thead>\n",
       "  <tbody>\n",
       "    <tr>\n",
       "      <th>13</th>\n",
       "      <td>easy listening</td>\n",
       "      <td>302.146</td>\n",
       "    </tr>\n",
       "    <tr>\n",
       "      <th>2</th>\n",
       "      <td>Folk/Acoustic, rock</td>\n",
       "      <td>278.666</td>\n",
       "    </tr>\n",
       "    <tr>\n",
       "      <th>18</th>\n",
       "      <td>hip hop, latin, Dance/Electronic</td>\n",
       "      <td>256.971</td>\n",
       "    </tr>\n",
       "    <tr>\n",
       "      <th>24</th>\n",
       "      <td>hip hop, pop, country</td>\n",
       "      <td>252.653</td>\n",
       "    </tr>\n",
       "    <tr>\n",
       "      <th>35</th>\n",
       "      <td>pop, R&amp;B, easy listening</td>\n",
       "      <td>250.106</td>\n",
       "    </tr>\n",
       "  </tbody>\n",
       "</table>\n",
       "</div>"
      ],
      "text/plain": [
       "                               genre  duration_s\n",
       "13                    easy listening     302.146\n",
       "2                Folk/Acoustic, rock     278.666\n",
       "18  hip hop, latin, Dance/Electronic     256.971\n",
       "24             hip hop, pop, country     252.653\n",
       "35          pop, R&B, easy listening     250.106"
      ]
     },
     "execution_count": 30,
     "metadata": {},
     "output_type": "execute_result"
    }
   ],
   "source": [
    "duration_by_genre = df.groupby('genre').duration_s.mean().reset_index()\n",
    "duration_by_genre = duration_by_genre.sort_values('duration_s', ascending=False)\n",
    "duration_by_genre.head()"
   ]
  },
  {
   "cell_type": "markdown",
   "id": "ea94fa6d",
   "metadata": {},
   "source": [
    "It seems like we have some erronous genre data (there is a genre called set()). Let us drop those values:"
   ]
  },
  {
   "cell_type": "code",
   "execution_count": 31,
   "id": "0572b2d3",
   "metadata": {
    "scrolled": false
   },
   "outputs": [
    {
     "data": {
      "text/html": [
       "<div>\n",
       "<style scoped>\n",
       "    .dataframe tbody tr th:only-of-type {\n",
       "        vertical-align: middle;\n",
       "    }\n",
       "\n",
       "    .dataframe tbody tr th {\n",
       "        vertical-align: top;\n",
       "    }\n",
       "\n",
       "    .dataframe thead th {\n",
       "        text-align: right;\n",
       "    }\n",
       "</style>\n",
       "<table border=\"1\" class=\"dataframe\">\n",
       "  <thead>\n",
       "    <tr style=\"text-align: right;\">\n",
       "      <th></th>\n",
       "      <th>genre</th>\n",
       "      <th>duration_s</th>\n",
       "    </tr>\n",
       "  </thead>\n",
       "  <tbody>\n",
       "    <tr>\n",
       "      <th>13</th>\n",
       "      <td>easy listening</td>\n",
       "      <td>302.146</td>\n",
       "    </tr>\n",
       "    <tr>\n",
       "      <th>2</th>\n",
       "      <td>Folk/Acoustic, rock</td>\n",
       "      <td>278.666</td>\n",
       "    </tr>\n",
       "    <tr>\n",
       "      <th>18</th>\n",
       "      <td>hip hop, latin, Dance/Electronic</td>\n",
       "      <td>256.971</td>\n",
       "    </tr>\n",
       "    <tr>\n",
       "      <th>24</th>\n",
       "      <td>hip hop, pop, country</td>\n",
       "      <td>252.653</td>\n",
       "    </tr>\n",
       "    <tr>\n",
       "      <th>35</th>\n",
       "      <td>pop, R&amp;B, easy listening</td>\n",
       "      <td>250.106</td>\n",
       "    </tr>\n",
       "  </tbody>\n",
       "</table>\n",
       "</div>"
      ],
      "text/plain": [
       "                               genre  duration_s\n",
       "13                    easy listening     302.146\n",
       "2                Folk/Acoustic, rock     278.666\n",
       "18  hip hop, latin, Dance/Electronic     256.971\n",
       "24             hip hop, pop, country     252.653\n",
       "35          pop, R&B, easy listening     250.106"
      ]
     },
     "execution_count": 31,
     "metadata": {},
     "output_type": "execute_result"
    }
   ],
   "source": [
    "no_set = duration_by_genre.drop(57, axis=0)\n",
    "no_set.head()"
   ]
  },
  {
   "cell_type": "code",
   "execution_count": 32,
   "id": "1fb62800",
   "metadata": {
    "scrolled": true
   },
   "outputs": [
    {
     "data": {
      "image/png": "[encoded data removed]",
      "text/plain": [
       "<Figure size 720x1440 with 1 Axes>"
      ]
     },
     "metadata": {
      "needs_background": "light"
     },
     "output_type": "display_data"
    }
   ],
   "source": [
    "fig2 = plt.figure(figsize=(10,20))\n",
    "sns.barplot(x = 'duration_s', y = 'genre', data = no_set)\n",
    "plt.suptitle('Duration According to Genre')\n",
    "plt.show()"
   ]
  },
  {
   "cell_type": "markdown",
   "id": "bbf70a8e",
   "metadata": {},
   "source": [
    "There is not much of a difference across genres. Moreover, many genres only have 1 song in this dataset. "
   ]
  },
  {
   "cell_type": "markdown",
   "id": "5b3b1761",
   "metadata": {},
   "source": [
    "#### Popularity by Genre"
   ]
  },
  {
   "cell_type": "code",
   "execution_count": 33,
   "id": "1ca9254d",
   "metadata": {},
   "outputs": [
    {
     "data": {
      "text/html": [
       "<div>\n",
       "<style scoped>\n",
       "    .dataframe tbody tr th:only-of-type {\n",
       "        vertical-align: middle;\n",
       "    }\n",
       "\n",
       "    .dataframe tbody tr th {\n",
       "        vertical-align: top;\n",
       "    }\n",
       "\n",
       "    .dataframe thead th {\n",
       "        text-align: right;\n",
       "    }\n",
       "</style>\n",
       "<table border=\"1\" class=\"dataframe\">\n",
       "  <thead>\n",
       "    <tr style=\"text-align: right;\">\n",
       "      <th></th>\n",
       "      <th>genre</th>\n",
       "      <th>popularity</th>\n",
       "    </tr>\n",
       "  </thead>\n",
       "  <tbody>\n",
       "    <tr>\n",
       "      <th>42</th>\n",
       "      <td>pop, rock, Folk/Acoustic</td>\n",
       "      <td>79.0</td>\n",
       "    </tr>\n",
       "    <tr>\n",
       "      <th>1</th>\n",
       "      <td>Folk/Acoustic, pop</td>\n",
       "      <td>78.0</td>\n",
       "    </tr>\n",
       "    <tr>\n",
       "      <th>56</th>\n",
       "      <td>rock, pop, metal, Dance/Electronic</td>\n",
       "      <td>76.0</td>\n",
       "    </tr>\n",
       "    <tr>\n",
       "      <th>25</th>\n",
       "      <td>hip hop, pop, latin</td>\n",
       "      <td>75.5</td>\n",
       "    </tr>\n",
       "    <tr>\n",
       "      <th>27</th>\n",
       "      <td>hip hop, rock, pop</td>\n",
       "      <td>75.0</td>\n",
       "    </tr>\n",
       "    <tr>\n",
       "      <th>44</th>\n",
       "      <td>rock</td>\n",
       "      <td>73.5</td>\n",
       "    </tr>\n",
       "    <tr>\n",
       "      <th>29</th>\n",
       "      <td>metal</td>\n",
       "      <td>72.0</td>\n",
       "    </tr>\n",
       "    <tr>\n",
       "      <th>13</th>\n",
       "      <td>easy listening</td>\n",
       "      <td>72.0</td>\n",
       "    </tr>\n",
       "    <tr>\n",
       "      <th>28</th>\n",
       "      <td>latin</td>\n",
       "      <td>72.0</td>\n",
       "    </tr>\n",
       "    <tr>\n",
       "      <th>18</th>\n",
       "      <td>hip hop, latin, Dance/Electronic</td>\n",
       "      <td>72.0</td>\n",
       "    </tr>\n",
       "  </tbody>\n",
       "</table>\n",
       "</div>"
      ],
      "text/plain": [
       "                                 genre  popularity\n",
       "42            pop, rock, Folk/Acoustic        79.0\n",
       "1                   Folk/Acoustic, pop        78.0\n",
       "56  rock, pop, metal, Dance/Electronic        76.0\n",
       "25                 hip hop, pop, latin        75.5\n",
       "27                  hip hop, rock, pop        75.0\n",
       "44                                rock        73.5\n",
       "29                               metal        72.0\n",
       "13                      easy listening        72.0\n",
       "28                               latin        72.0\n",
       "18    hip hop, latin, Dance/Electronic        72.0"
      ]
     },
     "execution_count": 33,
     "metadata": {},
     "output_type": "execute_result"
    }
   ],
   "source": [
    "popu_by_genre = df.groupby('genre').popularity.median().reset_index()\n",
    "popu_by_genre.sort_values('popularity', ascending=False).head(10)"
   ]
  },
  {
   "cell_type": "markdown",
   "id": "5afe872b",
   "metadata": {},
   "source": [
    "## EDA Conclusion\n",
    "\n",
    "- **Top Artists by number of top hits:** Rihanna, Drake, Eminem, Calvin Harris, Britney Spears, David Guetta, Chris Brown, Katy Perry, Beyoncé, and Taylor Swift.\n",
    "\n",
    "\n",
    "- **Top Artists with a minimum of 5 Top Hits and Average Song Popularity:** Bruno Mars, Marshmello, Arctic Monkeys, Red Hot Chili Peppers, Linkin Park, Coldplay, Fall Out Boy, Sam Smith, Lady Gaga, Ed Sheeran.  \n",
    "\n",
    "\n",
    "- Song duration has been steadily decreasing from the year 2000 to 2019  \n",
    "\n",
    "\n",
    "- **The most frequent genres in top hits:** Pop, Hip Hop, R&B, Dance/Electronic, and Rock  \n",
    "\n",
    "\n",
    "- **The 10 most popular songs in the dataset in order were:** Sweater Weather by The Neighbourhood, Another Love by Tom Odell, Without Me by Eminem, The Real Slim Shady by Eminem, Lovely by Billie Eilish with Khalid, Wait a Minute! by WILLOW, Circles by Post Malone, The Nights by Avicii, Perfect by Ed Sheeran, Locked Out of Heaven by Bruno Mars  "
   ]
  },
  {
   "cell_type": "markdown",
   "id": "4ac38fc5",
   "metadata": {},
   "source": [
    "# Linear Regression"
   ]
  },
  {
   "cell_type": "code",
   "execution_count": 35,
   "id": "e7cfa5f8",
   "metadata": {},
   "outputs": [
    {
     "data": {
      "image/png": "[encoded data removed]",
      "text/plain": [
       "<Figure size 1440x720 with 2 Axes>"
      ]
     },
     "metadata": {
      "needs_background": "light"
     },
     "output_type": "display_data"
    }
   ],
   "source": [
    "plt.figure(figsize=(20,10))\n",
    "sns.heatmap(df.corr(),annot=True)\n",
    "plt.show()"
   ]
  },
  {
   "cell_type": "markdown",
   "id": "222cbaeb",
   "metadata": {},
   "source": [
    "I wanted to see if we could predict popularity; it seems like there are no strong correlations for any of the variables with regards to popularity."
   ]
  },
  {
   "cell_type": "code",
   "execution_count": 36,
   "id": "75aa9971",
   "metadata": {},
   "outputs": [],
   "source": [
    "from sklearn.model_selection import train_test_split\n",
    "from sklearn.model_selection import KFold\n",
    "from sklearn.preprocessing import MinMaxScaler\n",
    "from sklearn.linear_model import LinearRegression\n",
    "from sklearn.metrics import mean_absolute_error, mean_squared_error"
   ]
  },
  {
   "cell_type": "code",
   "execution_count": 37,
   "id": "cdf4f26f",
   "metadata": {},
   "outputs": [
    {
     "data": {
      "text/plain": [
       "LinearRegression()"
      ]
     },
     "execution_count": 37,
     "metadata": {},
     "output_type": "execute_result"
    }
   ],
   "source": [
    "df2 = df.drop(['artist','song','genre'],axis=1)\n",
    "X = df2.drop('popularity', axis = 1)\n",
    "y = df2['popularity']\n",
    "X_train, X_test, y_train, y_test = train_test_split(X, y, test_size=0.2, random_state=42)\n",
    "\n",
    "scaler = MinMaxScaler()\n",
    "\n",
    "X_train = scaler.fit_transform(X_train)\n",
    "X_test = scaler.fit_transform(X_test)\n",
    "\n",
    "lr = LinearRegression()\n",
    "lr.fit(X_train, y_train)"
   ]
  },
  {
   "cell_type": "code",
   "execution_count": 82,
   "id": "e550c625",
   "metadata": {},
   "outputs": [
    {
     "name": "stdout",
     "output_type": "stream",
     "text": [
      "MAE train: 15.258\n",
      "MAE test: 14.257\n"
     ]
    }
   ],
   "source": [
    "y_train_pred = lr.predict(X_train)\n",
    "y_test_pred = lr.predict(X_test)\n",
    "\n",
    "print('MAE train: %.3f' % mean_absolute_error(y_train, y_train_pred))\n",
    "print('MAE test: %.3f' % mean_absolute_error(y_test, y_test_pred))"
   ]
  },
  {
   "cell_type": "code",
   "execution_count": 38,
   "id": "be9a6d64",
   "metadata": {},
   "outputs": [
    {
     "name": "stdout",
     "output_type": "stream",
     "text": [
      "MSE train: 480.766\n",
      "MSE test: 413.288\n"
     ]
    }
   ],
   "source": [
    "y_train_pred = lr.predict(X_train)\n",
    "y_test_pred = lr.predict(X_test)\n",
    "\n",
    "print('MSE train: %.3f' % mean_squared_error(y_train_pred, y_train))\n",
    "print('MSE test: %.3f' % mean_squared_error(y_test_pred, y_test))"
   ]
  },
  {
   "cell_type": "markdown",
   "id": "fb469f3c",
   "metadata": {},
   "source": [
    "With a pipeline and Standard Scaler:"
   ]
  },
  {
   "cell_type": "code",
   "execution_count": 7,
   "id": "29a8594b",
   "metadata": {},
   "outputs": [],
   "source": [
    "from sklearn.model_selection import train_test_split\n",
    "from sklearn.linear_model import LinearRegression\n",
    "from sklearn.metrics import mean_absolute_error, mean_squared_error\n",
    "from sklearn.pipeline import Pipeline\n",
    "from sklearn.preprocessing import StandardScaler"
   ]
  },
  {
   "cell_type": "code",
   "execution_count": 8,
   "id": "3ba2238b",
   "metadata": {},
   "outputs": [],
   "source": [
    "df2 = df.drop(['artist','song','genre'],axis=1)\n",
    "X = df2.drop('popularity', axis = 1)\n",
    "y = df2['popularity']\n",
    "X_train, X_test, y_train, y_test = train_test_split(X, y, test_size=0.2, random_state=42)"
   ]
  },
  {
   "cell_type": "code",
   "execution_count": 9,
   "id": "89df8779",
   "metadata": {},
   "outputs": [
    {
     "data": {
      "text/plain": [
       "Pipeline(steps=[('scaler', StandardScaler()), ('linreg', LinearRegression())])"
      ]
     },
     "execution_count": 9,
     "metadata": {},
     "output_type": "execute_result"
    }
   ],
   "source": [
    "pipe = Pipeline([('scaler', StandardScaler()),\n",
    "                 ('linreg', LinearRegression())])\n",
    "pipe.fit(X_train, y_train)"
   ]
  },
  {
   "cell_type": "code",
   "execution_count": 10,
   "id": "da84972d",
   "metadata": {},
   "outputs": [
    {
     "name": "stdout",
     "output_type": "stream",
     "text": [
      "MAE train: 14.433\n",
      "MAE test: 14.947\n"
     ]
    }
   ],
   "source": [
    "y_train_pred = pipe.predict(X_train)\n",
    "y_test_pred = pipe.predict(X_test)\n",
    "\n",
    "print('MAE train: %.3f' % mean_absolute_error(y_train, y_train_pred))\n",
    "print('MAE test: %.3f' % mean_absolute_error(y_test, y_test_pred))"
   ]
  },
  {
   "cell_type": "code",
   "execution_count": 11,
   "id": "b0f07b97",
   "metadata": {},
   "outputs": [
    {
     "name": "stdout",
     "output_type": "stream",
     "text": [
      "MSE train: 445.586\n",
      "MSE test: 470.885\n"
     ]
    }
   ],
   "source": [
    "y_train_pred = pipe.predict(X_train)\n",
    "y_test_pred = pipe.predict(X_test)\n",
    "\n",
    "print('MSE train: %.3f' % mean_squared_error(y_train_pred, y_train))\n",
    "print('MSE test: %.3f' % mean_squared_error(y_test_pred, y_test))"
   ]
  },
  {
   "cell_type": "code",
   "execution_count": null,
   "id": "a0742049",
   "metadata": {},
   "outputs": [],
   "source": []
  }
 ],
 "metadata": {
  "kernelspec": {
   "display_name": "Python 3",
   "language": "python",
   "name": "python3"
  },
  "language_info": {
   "codemirror_mode": {
    "name": "ipython",
    "version": 3
   },
   "file_extension": ".py",
   "mimetype": "text/x-python",
   "name": "python",
   "nbconvert_exporter": "python",
   "pygments_lexer": "ipython3",
   "version": "3.9.7"
  },
  "toc": {
   "base_numbering": 1,
   "nav_menu": {},
   "number_sections": true,
   "sideBar": true,
   "skip_h1_title": false,
   "title_cell": "Table of Contents",
   "title_sidebar": "Contents",
   "toc_cell": false,
   "toc_position": {},
   "toc_section_display": true,
   "toc_window_display": true
  }
 },
 "nbformat": 4,
 "nbformat_minor": 5
}
